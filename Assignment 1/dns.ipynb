{
 "cells": [
  {
   "cell_type": "code",
   "execution_count": 4,
   "id": "07622244-ed5b-4b1b-b9a5-c4e1b0ebc3fd",
   "metadata": {},
   "outputs": [],
   "source": [
    "def hexa2bin(hex):\n",
    "    # Convert a hexadecimal bit stream to a binary bit stream\n",
    "    \n",
    "    hex_dict = {'0': '0000', '1': '0001', '2': '0010', '3': '0011', '4': '0100', '5': '0101', '6': '0110', '7': '0111', '8': '1000', '9': '1001', 'a': '1010', 'b': '1011', 'c': '1100', 'd': '1101', 'e': '1110', 'f': '1111'}\n",
    "    \n",
    "    bin = ''\n",
    "    for c in hex:\n",
    "         bin += hex_dict[c]\n",
    "    \n",
    "    return bin\n",
    "\n",
    "def bin2dec(bin):\n",
    "    # Convert a binary bit stream to its decimal representation\n",
    "    # Returns -1 if a empty string is passed\n",
    "    \n",
    "    if(bin == ''):\n",
    "        return -1\n",
    "    return int(bin, 2)"
   ]
  },
  {
   "cell_type": "code",
   "execution_count": 6,
   "id": "a0c3a634-c25b-4fcc-b7d3-1494b4a8d278",
   "metadata": {},
   "outputs": [],
   "source": [
    "def get_domain_name(dns, start):\n",
    "    # Gets the domain name given a dns packet\n",
    "    # Returns the domain name, the start of the answer section and the number of octets in the\n",
    "    # question section. This is required to parse the answer section in the get_ip function\n",
    "    \n",
    "    domain_name = ''\n",
    "    \n",
    "    num_octets = bin2dec(dns[start : start + 8])\n",
    "    if(num_octets == -1):\n",
    "        return -1, -1, -1\n",
    "    \n",
    "    start += 8\n",
    "    total_octets = 0\n",
    "\n",
    "    while(num_octets != 0):\n",
    "        if(num_octets > 63):\n",
    "            return -1, -1, -1\n",
    "        total_octets += (num_octets + 1)\n",
    "        for i in range(num_octets):\n",
    "            octet = bin2dec(dns[start : start + 8])\n",
    "            if not((octet == 45) or (octet > 47 and octet < 58) or (octet > 64 and octet < 91) or (octet > 96 and octet < 123)):\n",
    "                return -1, -1, -1\n",
    "            domain_name += chr(octet)\n",
    "            start += 8\n",
    "\n",
    "        num_octets = bin2dec(dns[start : start + 8])\n",
    "        if(num_octets == -1):\n",
    "            return -1, -1, -1\n",
    "        \n",
    "        start += 8\n",
    "        if(num_octets != 0): domain_name += '.'\n",
    "\n",
    "    total_octets += 1\n",
    "    start += 4 * 8 \n",
    "        \n",
    "    return domain_name, start, total_octets"
   ]
  },
  {
   "cell_type": "code",
   "execution_count": 8,
   "id": "dd3f90fb-efea-4194-9383-0fc663bc1d2d",
   "metadata": {},
   "outputs": [],
   "source": [
    "def get_ip(dns, start, q_octets, domain_name):\n",
    "    # Returns the ip address from a dns packet, given the packet is a response packet\n",
    "    # Returns -1 in case of error\n",
    "    if(start >= len(dns)):\n",
    "        return -1\n",
    "        \n",
    "    if(dns[start] == '1' and dns[start + 1] == '1'):\n",
    "        # This case corresponds to when the compression algorithm is used to \n",
    "        # add a pointer to the domain name in the question section\n",
    "        len_start = start + 10 * 8\n",
    "    elif(dns[start] == '0' and dns[start + 1] == '0'):\n",
    "        # This case corresponds to the case when no compression is involved\n",
    "        len_start = start + (q_octets + 8) * 8\n",
    "        answer_domain_name = get_domain_name(dns, start)\n",
    "        if(answer_domain_name != domain_name):\n",
    "            return -1\n",
    "    else:\n",
    "        # Invalid case. Returns -1\n",
    "        return -1\n",
    "        \n",
    "    num_ip_octets = bin2dec(dns[len_start : len_start + 16])\n",
    "    if(num_ip_octets == -1):\n",
    "        return -1\n",
    "\n",
    "    ip = ''\n",
    "    ip_start = len_start + 16\n",
    "\n",
    "    for i in range(num_ip_octets):\n",
    "        if(i != 0):\n",
    "            ip += \".\"\n",
    "        ip_ = bin2dec(dns[ip_start : ip_start + 8])\n",
    "        if(ip_ == -1):\n",
    "            return -1\n",
    "            \n",
    "        ip += str(ip_)\n",
    "        ip_start += 8\n",
    "\n",
    "    return ip"
   ]
  },
  {
   "cell_type": "code",
   "execution_count": 16,
   "id": "9ea1f225-8edf-495d-b330-e0dd29f586e8",
   "metadata": {},
   "outputs": [],
   "source": [
    "def parse_dns(dns):\n",
    "    # Parse a given dns packet. Prints \"Invalid DNS Packet\" if the packet is invalid\n",
    "    \n",
    "    z = bin2dec(dns[25:28])\n",
    "    rcode = bin2dec(dns[28:32])\n",
    "    if(rcode or z):\n",
    "        print(\"Invalid DNS Packet\")\n",
    "        return\n",
    "        \n",
    "    qr = dns[16] # 17th bit of the DNS packet represents if the packet is a question or a response packet\n",
    "    if(qr == '0'):\n",
    "        # If the bit is 0, it is a question packet\n",
    "        domain_name, _, _ = get_domain_name(dns, 96)\n",
    "        if(domain_name == -1):\n",
    "            # Error hnadling\n",
    "            print(\"Invalid DNS Packet\")\n",
    "            return\n",
    "            \n",
    "        print(f\"This is a query packet.\\nQueried Domain Name: {domain_name}\")\n",
    "    else:\n",
    "        # If the bit is 1, it is an answer packet\n",
    "        domain_name, answer_start, total_octets = get_domain_name(dns, 96)\n",
    "        if(domain_name == -1):\n",
    "            # Error handling\n",
    "            print(\"Invalid DNS Packet\")\n",
    "            return\n",
    "            \n",
    "        ip = get_ip(dns, answer_start, total_octets, domain_name)\n",
    "        if ip == -1:\n",
    "            # Error handling\n",
    "            printf(\"Invalid DNS Packet\")\n",
    "            return\n",
    "            \n",
    "        print(f\"This is a response packet.\\nQueried Domain Name: {domain_name}\\nResponse IP Address: {ip}\")"
   ]
  },
  {
   "cell_type": "code",
   "execution_count": 26,
   "id": "4f4f305d-b45e-4048-8cee-5e59c440ef73",
   "metadata": {},
   "outputs": [
    {
     "name": "stdin",
     "output_type": "stream",
     "text": [
      "Enter DNS Packet:  a0208180000100010000000105666f6e74730a676f6f676c656170697303636f6d00 00010001c00c00010001000000ae00048efab64a0000290200000000000000\n"
     ]
    }
   ],
   "source": [
    "dns_packet = input(\"Enter DNS Packet: \")"
   ]
  },
  {
   "cell_type": "code",
   "execution_count": 27,
   "id": "02bb5d7c-54a0-4380-ae1c-c593d0867a3e",
   "metadata": {},
   "outputs": [],
   "source": [
    "dns_packet = ''.join(dns_packet.split())"
   ]
  },
  {
   "cell_type": "code",
   "execution_count": 28,
   "id": "6c245e29-477b-4dc6-9f92-3d87d93e078b",
   "metadata": {},
   "outputs": [
    {
     "name": "stdout",
     "output_type": "stream",
     "text": [
      "This is a response packet.\n",
      "Queried Domain Name: fonts.googleapis.com\n",
      "Response IP Address: 142.250.182.74\n"
     ]
    }
   ],
   "source": [
    "parse_dns(hexa2bin(dns_packet))"
   ]
  }
 ],
 "metadata": {
  "kernelspec": {
   "display_name": "Python 3 (ipykernel)",
   "language": "python",
   "name": "python3"
  },
  "language_info": {
   "codemirror_mode": {
    "name": "ipython",
    "version": 3
   },
   "file_extension": ".py",
   "mimetype": "text/x-python",
   "name": "python",
   "nbconvert_exporter": "python",
   "pygments_lexer": "ipython3",
   "version": "3.11.0"
  }
 },
 "nbformat": 4,
 "nbformat_minor": 5
}
