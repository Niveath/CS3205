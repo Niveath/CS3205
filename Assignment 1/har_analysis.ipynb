{
 "cells": [
  {
   "cell_type": "code",
   "execution_count": 12,
   "id": "d4e0654d-32ef-4f5b-a36d-1fbdf8d0e15d",
   "metadata": {},
   "outputs": [],
   "source": [
    "import json\n",
    "from haralyzer import HarParser, HarPage, HarEntry"
   ]
  },
  {
   "cell_type": "code",
   "execution_count": 24,
   "id": "45b2f0ae-eb8d-49f5-b24c-49c08766dcac",
   "metadata": {},
   "outputs": [],
   "source": [
    "har_file = \"sinu.har\" # Put the path to your HAR file here\n",
    "output_file_name = har_file.split('.har')[0] + '.txt'\n",
    "output_file = open(output_file_name, 'w+') # Create a file to write the results of the analysis"
   ]
  },
  {
   "cell_type": "code",
   "execution_count": 25,
   "id": "72f8e807-4327-4576-b93e-0657015426cd",
   "metadata": {},
   "outputs": [
    {
     "name": "stdout",
     "output_type": "stream",
     "text": [
      "[ID: page_0, URL: https://www.sinu.edu.sb/]\n"
     ]
    }
   ],
   "source": [
    "with open(har_file, 'r') as f:\n",
    "    har_parser = HarParser(json.loads(f.read()))\n",
    "\n",
    "print(har_parser.pages)"
   ]
  },
  {
   "cell_type": "code",
   "execution_count": 26,
   "id": "0cb943a9-711a-4911-b53c-e97e5a3e37fd",
   "metadata": {},
   "outputs": [],
   "source": [
    "har_page = har_parser.pages[0] # Assuming only one page per HAR File"
   ]
  },
  {
   "cell_type": "code",
   "execution_count": 27,
   "id": "23ace7d0-1c7e-40e0-8c14-dac4efbc3cf3",
   "metadata": {},
   "outputs": [],
   "source": [
    "\"\"\"If there are more than one pages in the HAR file, then choose the appropriate page by\n",
    "   running the below code with the appropriate page id\"\"\"\n",
    "# with open(har_file, 'r') as f:\n",
    "#     har_page = HarPage('page_0', har_data=json.loads(f.read())) # Put the appropriate page id here"
   ]
  },
  {
   "cell_type": "markdown",
   "id": "29d69c9c-dd0f-451e-8953-70ab46644fd2",
   "metadata": {},
   "source": [
    "# 1. Report the TTFB and page load times\n",
    "# 2. Report the total number of HTTP GET requests made to the server"
   ]
  },
  {
   "cell_type": "code",
   "execution_count": 28,
   "id": "8590757d-c696-41e7-ba9c-6bac743d53dc",
   "metadata": {},
   "outputs": [
    {
     "data": {
      "text/plain": [
       "42"
      ]
     },
     "execution_count": 28,
     "metadata": {},
     "output_type": "execute_result"
    }
   ],
   "source": [
    "output_file.write(f\"Host Name: {har_page.hostname}\\n\")\n",
    "output_file.write(f\"URL: {har_page.url}\\n\")\n",
    "output_file.write(f\"Time To First Byte: {har_page.time_to_first_byte} ms\\n\")\n",
    "output_file.write(f\"Page Load Time: {har_page.page_load_time} ms\\n\")\n",
    "output_file.write(f\"Total GET Requests made to the Server: {len(har_page.get_requests)}\\n\")"
   ]
  },
  {
   "cell_type": "markdown",
   "id": "bdc7868f-c407-4c41-a37b-7b07446f7639",
   "metadata": {},
   "source": [
    "# 3. List the different MIME types observed in the requests"
   ]
  },
  {
   "cell_type": "code",
   "execution_count": 29,
   "id": "14080079-f1df-4dd7-83e0-269d11a5f1cf",
   "metadata": {},
   "outputs": [],
   "source": [
    "mime_types = []\n",
    "mime_type_count = {}\n",
    "\n",
    "for entry in har_page.entries:\n",
    "    mime_type = entry.response.mimeType # Find the mime type of the reponse\n",
    "    \n",
    "    if mime_type not in mime_types:\n",
    "        # Add to the list of mime types\n",
    "        mime_types.append(mime_type)\n",
    "        mime_type_count[mime_type] = 0\n",
    "\n",
    "    mime_type_count[mime_type] += 1 # Increment count of the mime type"
   ]
  },
  {
   "cell_type": "code",
   "execution_count": 30,
   "id": "2b7bbcc1-2cef-42f0-a763-3a04bbc82258",
   "metadata": {},
   "outputs": [],
   "source": [
    "output_file.write(f\"\\nDifferent MIME Types Observed:\\n\")\n",
    "for idx, type in enumerate(mime_types):\n",
    "    output_file.write(f\"\\t{idx + 1}. {type}\\n\")"
   ]
  },
  {
   "cell_type": "markdown",
   "id": "b0500a84-2a06-4a3d-bfd3-b7268e172ec7",
   "metadata": {},
   "source": [
    "# 4. What fraction of GET requests correspond to: (a) Images, (b) javascript and (c) HTML and CSS"
   ]
  },
  {
   "cell_type": "code",
   "execution_count": 31,
   "id": "9dcb9a38-4a89-4d97-927b-a54a43f10ac7",
   "metadata": {},
   "outputs": [],
   "source": [
    "mime_type_count_ = {\"Images\" : 0,\n",
    "                    \"Videos\" : 0,\n",
    "                    \"JavaScript\" : 0,\n",
    "                    \"HTML and CSS\" : 0,\n",
    "                    \"Fonts\" : 0}\n",
    "\n",
    "for type_count in mime_type_count:\n",
    "    if \"image\" in type_count:\n",
    "        mime_type_count_[\"Images\"] += mime_type_count[type_count]\n",
    "    elif \"video\" in type_count:\n",
    "        mime_type_count_[\"Videos\"] += mime_type_count[type_count]\n",
    "    elif \"javascript\" in type_count:\n",
    "        mime_type_count_[\"JavaScript\"] += mime_type_count[type_count]\n",
    "    elif (\"html\" in type_count) or (\"css\" in type_count):\n",
    "        mime_type_count_[\"HTML and CSS\"] += mime_type_count[type_count]\n",
    "    elif \"font\" in type_count:\n",
    "        mime_type_count_[\"Fonts\"] += mime_type_count[type_count]\n",
    "\n",
    "total_get_requests = len(har_page.get_requests)\n",
    "mime_type_fraction = {}\n",
    "for type_count in mime_type_count_:\n",
    "    mime_type_fraction[type_count] = mime_type_count_[type_count] / (total_get_requests * 0.01)"
   ]
  },
  {
   "cell_type": "code",
   "execution_count": 32,
   "id": "7a594bcc-2061-4c10-9fea-c4cced448ce4",
   "metadata": {},
   "outputs": [],
   "source": [
    "output_file.write(f\"\\nFraction of different MIME Types in GET Requests:\\n\")\n",
    "for idx, type_count in enumerate(mime_type_fraction.keys()):\n",
    "    output_file.write(f\"\\t{idx + 1}. {type_count} : {mime_type_fraction[type_count] : .2f} %\\n\")"
   ]
  },
  {
   "cell_type": "markdown",
   "id": "564541a0-65cb-45e1-86fa-e3267e921a66",
   "metadata": {},
   "source": [
    "s# 5. What is the total size of the assets downloaded as a part of the responses? What fraction of the size constitute of the images? What is the mean and median size of the images?"
   ]
  },
  {
   "cell_type": "code",
   "execution_count": 33,
   "id": "b8ea0bb1-4cab-47a0-a7bd-d486c3447362",
   "metadata": {},
   "outputs": [],
   "source": [
    "total_size = har_page.get_total_size(har_page.entries) / 1e6\n",
    "total_image_size = har_page.image_size / 1e6\n",
    "image_fraction = (total_image_size / total_size) * 100\n",
    "\n",
    "images = har_page.image_files\n",
    "image_size = []\n",
    "for image in images:\n",
    "    image_size.append(har_page.get_total_size([image]))\n",
    "image_size.sort()\n",
    "\n",
    "mean_image_size = (total_image_size / mime_type_count_[\"Images\"])\n",
    "\n",
    "if len(image_size) % 2:\n",
    "    median_image_size = image_size[int(len(image_size) / 2)]\n",
    "else:\n",
    "    median_image_size = (image_size[int(len(image_size) / 2) - 1] + image_size[int(len(image_size) / 2)]) / 2\n",
    "\n",
    "median_image_size /= 1e6"
   ]
  },
  {
   "cell_type": "code",
   "execution_count": 34,
   "id": "d661ce6c-69d4-447e-adca-ef803ed7d53e",
   "metadata": {},
   "outputs": [],
   "source": [
    "output_file.write(f\"\\nTotal Size of Downloaded Assets: {total_size : .4f} MB\\n\")\n",
    "output_file.write(f\"Total Size of Images Downloaded: {total_image_size : .4f} MB\\n\")\n",
    "output_file.write(f\"Average Size of Images Downloaded: {mean_image_size : .4f} MB\\n\")\n",
    "output_file.write(f\"Median Size of Images Downloaded: {median_image_size : .4f} MB\\n\")\n",
    "\n",
    "output_file.close()"
   ]
  },
  {
   "cell_type": "code",
   "execution_count": null,
   "id": "af729c33-4360-4d8a-882b-3398fd388a50",
   "metadata": {},
   "outputs": [],
   "source": []
  }
 ],
 "metadata": {
  "kernelspec": {
   "display_name": "Python 3 (ipykernel)",
   "language": "python",
   "name": "python3"
  },
  "language_info": {
   "codemirror_mode": {
    "name": "ipython",
    "version": 3
   },
   "file_extension": ".py",
   "mimetype": "text/x-python",
   "name": "python",
   "nbconvert_exporter": "python",
   "pygments_lexer": "ipython3",
   "version": "3.11.0"
  }
 },
 "nbformat": 4,
 "nbformat_minor": 5
}
